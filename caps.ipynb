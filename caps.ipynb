{
 "cells": [
  {
   "cell_type": "code",
   "execution_count": 22,
   "metadata": {},
   "outputs": [],
   "source": [
    "import os\n",
    "import numpy as np\n",
    "import numpy as np\n",
    "import pandas as pd\n",
    "import matplotlib.pyplot as plt\n",
    "import tensorflow as tf\n",
    "from keras import Sequential\n",
    "from tensorflow.keras.layers import *\n",
    "from tensorflow.keras.models import * \n",
    "from tensorflow.keras.preprocessing import image"
   ]
  },
  {
   "cell_type": "code",
   "execution_count": 38,
   "metadata": {},
   "outputs": [
    {
     "name": "stdout",
     "output_type": "stream",
     "text": [
      "cervical fracture/Preprocessed_FracAtlas/Fractured\\IMG0.jpg\n"
     ]
    }
   ],
   "source": [
    "fractured_path = r\"cervical fracture/Preprocessed_FracAtlas/Fractured\"\n",
    "nonfractured_path = r\"cervical fracture/Preprocessed_FracAtlas/Non_fractured\"\n",
    "    \n",
    "fractured_files = [os.path.join(fractured_path, file) for file in os.listdir(fractured_path)]\n",
    "nonfractured_files = [os.path.join(nonfractured_path, file) for file in os.listdir(nonfractured_path)]\n",
    "\n",
    "\n",
    "num_fractured_samples = len(fractured_files)\n",
    "num_nonfractured_samples = len(nonfractured_files)\n",
    "\n",
    "num_train_fractured_samples = int(0.7 * num_fractured_samples)\n",
    "num_train_nonfractured_samples = int(0.7 * num_nonfractured_samples)\n",
    "num_test_fractured_samples = int(0.3 * num_fractured_samples)\n",
    "num_test_nonfractured_samples = int(0.3 * num_nonfractured_samples)\n",
    "\n",
    "\n",
    "train_fractured_files = fractured_files[:num_train_fractured_samples]\n",
    "train_nonfractured_files = nonfractured_files[:num_train_nonfractured_samples]\n",
    "test_fractured_files = fractured_files[num_train_fractured_samples:]\n",
    "test_nonfractured_files = nonfractured_files[num_train_nonfractured_samples:]\n",
    "\n",
    "\n",
    "train_files = []\n",
    "for file in train_fractured_files:\n",
    "    train_files.append((file, 1.0))\n",
    "for file in train_nonfractured_files:\n",
    "    train_files.append((file, 0.0))\n",
    "    \n",
    "\n",
    "    \n",
    "test_files = []\n",
    "for file in test_fractured_files:\n",
    "    test_files.append((file, 1.0))\n",
    "for file in test_nonfractured_files:\n",
    "    test_files.append((file, 0.0))"
   ]
  },
  {
   "cell_type": "code",
   "execution_count": 39,
   "metadata": {},
   "outputs": [],
   "source": [
    "train_df = pd.DataFrame(train_files, columns=['file_path','label'])\n",
    "test_df = pd.DataFrame(test_files, columns=['file_path', 'label'])"
   ]
  },
  {
   "cell_type": "code",
   "execution_count": 40,
   "metadata": {},
   "outputs": [],
   "source": [
    "train_datagen = image.ImageDataGenerator(\n",
    "    rotation_range=15,\n",
    "    shear_range=0.2,\n",
    "    zoom_range=0.2,\n",
    "    horizontal_flip=True,\n",
    "    fill_mode='nearest',\n",
    "    width_shift_range=0.1,\n",
    "    height_shift_range=0.1\n",
    ")\n",
    "val_datagen= image.ImageDataGenerator(    rotation_range=15,\n",
    "    shear_range=0.2,\n",
    "    zoom_range=0.2,\n",
    "    horizontal_flip=True,\n",
    "    fill_mode='nearest',\n",
    "    width_shift_range=0.1,\n",
    "    height_shift_range=0.1)"
   ]
  },
  {
   "cell_type": "code",
   "execution_count": 41,
   "metadata": {},
   "outputs": [
    {
     "name": "stdout",
     "output_type": "stream",
     "text": [
      "Found 2857 validated image filenames.\n",
      "Found 1226 validated image filenames.\n"
     ]
    }
   ],
   "source": [
    "train_generator = train_datagen.flow_from_dataframe(\n",
    "    dataframe=train_df,\n",
    "    x_col='file_path',\n",
    "    y_col='label',\n",
    "    target_size=(224, 224),\n",
    "    batch_size=4,\n",
    "    class_mode='raw'  # Since labels are provided directly\n",
    ")\n",
    "validation_generator = val_datagen.flow_from_dataframe(\n",
    "    dataframe=test_df,\n",
    "    x_col='file_path',\n",
    "    y_col='label',\n",
    "    target_size=(224, 224),\n",
    "    batch_size=4,\n",
    "    shuffle=True,\n",
    "    class_mode='raw'  # Since labels are provided directly\n",
    ")\n"
   ]
  },
  {
   "cell_type": "code",
   "execution_count": 42,
   "metadata": {},
   "outputs": [
    {
     "name": "stdout",
     "output_type": "stream",
     "text": [
      "Model: \"sequential_4\"\n",
      "_________________________________________________________________\n",
      " Layer (type)                Output Shape              Param #   \n",
      "=================================================================\n",
      " mobilenetv2_1.00_224 (Func  (None, 7, 7, 1280)        2257984   \n",
      " tional)                                                         \n",
      "                                                                 \n",
      " gaussian_noise_4 (Gaussian  (None, 7, 7, 1280)        0         \n",
      " Noise)                                                          \n",
      "                                                                 \n",
      " global_average_pooling2d_4  (None, 1280)              0         \n",
      "  (GlobalAveragePooling2D)                                       \n",
      "                                                                 \n",
      " dense_12 (Dense)            (None, 256)               327936    \n",
      "                                                                 \n",
      " batch_normalization_8 (Bat  (None, 256)               1024      \n",
      " chNormalization)                                                \n",
      "                                                                 \n",
      " gaussian_noise_5 (Gaussian  (None, 256)               0         \n",
      " Noise)                                                          \n",
      "                                                                 \n",
      " dropout_8 (Dropout)         (None, 256)               0         \n",
      "                                                                 \n",
      " dense_13 (Dense)            (None, 1)                 257       \n",
      "                                                                 \n",
      "=================================================================\n",
      "Total params: 2587201 (9.87 MB)\n",
      "Trainable params: 328705 (1.25 MB)\n",
      "Non-trainable params: 2258496 (8.62 MB)\n",
      "_________________________________________________________________\n"
     ]
    }
   ],
   "source": [
    "base_model = tf.keras.applications.MobileNetV2(weights='imagenet', input_shape=(224,224,3), include_top=False)\n",
    "\n",
    "for layer in base_model.layers:\n",
    "    layer.trainable=False\n",
    "model = Sequential()\n",
    "model.add(base_model)\n",
    "model.add(GaussianNoise(0.25))\n",
    "model.add(GlobalAveragePooling2D())\n",
    "model.add(Dense(256,activation='relu'))\n",
    "model.add(BatchNormalization())\n",
    "model.add(GaussianNoise(0.25))\n",
    "model.add(Dropout(0.25))\n",
    "model.add(Dense(1, activation='sigmoid'))\n",
    "model.summary()"
   ]
  },
  {
   "cell_type": "code",
   "execution_count": 43,
   "metadata": {},
   "outputs": [],
   "source": [
    "model.compile(loss='binary_crossentropy',\n",
    "              optimizer='adam',\n",
    "              metrics=['accuracy','Precision','Recall','AUC'])"
   ]
  },
  {
   "cell_type": "code",
   "execution_count": 44,
   "metadata": {},
   "outputs": [
    {
     "name": "stdout",
     "output_type": "stream",
     "text": [
      "Epoch 1/10\n",
      "50/50 [==============================] - ETA: 0s - loss: 0.7862 - accuracy: 0.5700 - precision: 0.1778 - recall: 0.5714 - auc: 0.5845\n",
      "Epoch 1: val_accuracy improved from -inf to 0.36134, saving model to best_model.h5\n",
      "50/50 [==============================] - 27s 499ms/step - loss: 0.7862 - accuracy: 0.5700 - precision: 0.1778 - recall: 0.5714 - auc: 0.5845 - val_loss: 0.9932 - val_accuracy: 0.3613 - val_precision: 0.1846 - val_recall: 0.7685 - val_auc: 0.5387 - lr: 0.0010\n"
     ]
    },
    {
     "name": "stderr",
     "output_type": "stream",
     "text": [
      "c:\\Users\\Ganesha\\AppData\\Local\\Programs\\Python\\Python311\\Lib\\site-packages\\keras\\src\\engine\\training.py:3103: UserWarning: You are saving your model as an HDF5 file via `model.save()`. This file format is considered legacy. We recommend using instead the native Keras format, e.g. `model.save('my_model.keras')`.\n",
      "  saving_api.save_model(\n"
     ]
    },
    {
     "name": "stdout",
     "output_type": "stream",
     "text": [
      "Epoch 2/10\n",
      "50/50 [==============================] - ETA: 0s - loss: 0.6786 - accuracy: 0.6750 - precision: 0.2292 - recall: 0.2821 - auc: 0.5143\n",
      "Epoch 2: val_accuracy improved from 0.36134 to 0.81566, saving model to best_model.h5\n",
      "50/50 [==============================] - 19s 386ms/step - loss: 0.6786 - accuracy: 0.6750 - precision: 0.2292 - recall: 0.2821 - auc: 0.5143 - val_loss: 0.5462 - val_accuracy: 0.8157 - val_precision: 0.1429 - val_recall: 0.0093 - val_auc: 0.5093 - lr: 0.0010\n",
      "Epoch 3/10\n",
      "50/50 [==============================] - ETA: 0s - loss: 0.5486 - accuracy: 0.7850 - precision: 0.2353 - recall: 0.1176 - auc: 0.5053\n",
      "Epoch 3: val_accuracy improved from 0.81566 to 0.81811, saving model to best_model.h5\n",
      "50/50 [==============================] - 19s 383ms/step - loss: 0.5486 - accuracy: 0.7850 - precision: 0.2353 - recall: 0.1176 - auc: 0.5053 - val_loss: 0.5363 - val_accuracy: 0.8181 - val_precision: 0.2667 - val_recall: 0.0185 - val_auc: 0.5839 - lr: 0.0010\n",
      "Epoch 4/10\n",
      "50/50 [==============================] - ETA: 0s - loss: 0.5099 - accuracy: 0.7950 - precision: 0.4688 - recall: 0.3846 - auc: 0.6724\n",
      "Epoch 4: val_accuracy did not improve from 0.81811\n",
      "50/50 [==============================] - 18s 371ms/step - loss: 0.5099 - accuracy: 0.7950 - precision: 0.4688 - recall: 0.3846 - auc: 0.6724 - val_loss: 0.4969 - val_accuracy: 0.7945 - val_precision: 0.2805 - val_recall: 0.1065 - val_auc: 0.6615 - lr: 0.0010\n",
      "Epoch 5/10\n",
      "50/50 [==============================] - ETA: 0s - loss: 0.5731 - accuracy: 0.7500 - precision: 0.3846 - recall: 0.2273 - auc: 0.6256\n",
      "Epoch 5: val_accuracy did not improve from 0.81811\n",
      "50/50 [==============================] - 18s 368ms/step - loss: 0.5731 - accuracy: 0.7500 - precision: 0.3846 - recall: 0.2273 - auc: 0.6256 - val_loss: 1.4818 - val_accuracy: 0.2904 - val_precision: 0.1762 - val_recall: 0.8241 - val_auc: 0.5380 - lr: 0.0010\n",
      "Epoch 6/10\n",
      "50/50 [==============================] - ETA: 0s - loss: 0.4888 - accuracy: 0.7900 - precision: 0.3571 - recall: 0.2941 - auc: 0.6303\n",
      "Epoch 6: val_accuracy did not improve from 0.81811\n",
      "50/50 [==============================] - 18s 363ms/step - loss: 0.4888 - accuracy: 0.7900 - precision: 0.3571 - recall: 0.2941 - auc: 0.6303 - val_loss: 0.7433 - val_accuracy: 0.5856 - val_precision: 0.2008 - val_recall: 0.4537 - val_auc: 0.5550 - lr: 1.0000e-04\n",
      "Epoch 7/10\n",
      "50/50 [==============================] - ETA: 0s - loss: 0.4164 - accuracy: 0.8300 - precision: 0.5294 - recall: 0.2571 - auc: 0.7461\n",
      "Epoch 7: val_accuracy did not improve from 0.81811\n",
      "50/50 [==============================] - 19s 384ms/step - loss: 0.4164 - accuracy: 0.8300 - precision: 0.5294 - recall: 0.2571 - auc: 0.7461 - val_loss: 0.5828 - val_accuracy: 0.7072 - val_precision: 0.2174 - val_recall: 0.2546 - val_auc: 0.5764 - lr: 1.0000e-04\n",
      "Epoch 8/10\n",
      "50/50 [==============================] - ETA: 0s - loss: 0.4228 - accuracy: 0.8400 - precision: 0.5500 - recall: 0.3235 - auc: 0.7312\n",
      "Epoch 8: val_accuracy did not improve from 0.81811\n",
      "50/50 [==============================] - 19s 378ms/step - loss: 0.4228 - accuracy: 0.8400 - precision: 0.5500 - recall: 0.3235 - auc: 0.7312 - val_loss: 0.5364 - val_accuracy: 0.7447 - val_precision: 0.2611 - val_recall: 0.2454 - val_auc: 0.5964 - lr: 1.0000e-05\n",
      "Epoch 9/10\n",
      "50/50 [==============================] - ETA: 0s - loss: 0.4313 - accuracy: 0.8250 - precision: 0.5263 - recall: 0.2778 - auc: 0.7166\n",
      "Epoch 9: val_accuracy did not improve from 0.81811\n",
      "50/50 [==============================] - 19s 382ms/step - loss: 0.4313 - accuracy: 0.8250 - precision: 0.5263 - recall: 0.2778 - auc: 0.7166 - val_loss: 0.5294 - val_accuracy: 0.7732 - val_precision: 0.3013 - val_recall: 0.2176 - val_auc: 0.5835 - lr: 1.0000e-05\n",
      "Epoch 10/10\n",
      "50/50 [==============================] - ETA: 0s - loss: 0.4037 - accuracy: 0.8250 - precision: 0.2857 - recall: 0.2308 - auc: 0.6754\n",
      "Epoch 10: val_accuracy did not improve from 0.81811\n",
      "50/50 [==============================] - 20s 405ms/step - loss: 0.4037 - accuracy: 0.8250 - precision: 0.2857 - recall: 0.2308 - auc: 0.6754 - val_loss: 0.5364 - val_accuracy: 0.7708 - val_precision: 0.2481 - val_recall: 0.1481 - val_auc: 0.5621 - lr: 1.0000e-06\n"
     ]
    }
   ],
   "source": [
    "from tensorflow.keras.callbacks import ModelCheckpoint, EarlyStopping, ReduceLROnPlateau\n",
    "lrp=ReduceLROnPlateau(monitor=\"val_accuracy\", factor=0.1, patience=2)\n",
    "filepath='best_model.h5'\n",
    "checkpoint = ModelCheckpoint(filepath, monitor='val_accuracy', verbose=1, save_best_only=True, mode='max')\n",
    "call=[checkpoint,lrp]\n",
    "history = model.fit(\n",
    "    train_generator,\n",
    "    epochs=10,\n",
    "    validation_data=validation_generator,\n",
    "    steps_per_epoch= 50,\n",
    "    callbacks=call\n",
    "    )"
   ]
  },
  {
   "cell_type": "code",
   "execution_count": 45,
   "metadata": {},
   "outputs": [
    {
     "name": "stdout",
     "output_type": "stream",
     "text": [
      "715/715 [==============================] - 54s 75ms/step - loss: 0.4351 - accuracy: 0.8138 - precision: 0.4543 - recall: 0.3074 - auc: 0.7281\n"
     ]
    },
    {
     "data": {
      "text/plain": [
       "[0.435066282749176,\n",
       " 0.8137906789779663,\n",
       " 0.45427727699279785,\n",
       " 0.30738523602485657,\n",
       " 0.7281434535980225]"
      ]
     },
     "execution_count": 45,
     "metadata": {},
     "output_type": "execute_result"
    }
   ],
   "source": [
    "model.evaluate(train_generator)\n"
   ]
  },
  {
   "cell_type": "code",
   "execution_count": 46,
   "metadata": {},
   "outputs": [
    {
     "name": "stdout",
     "output_type": "stream",
     "text": [
      "307/307 [==============================] - 17s 55ms/step - loss: 0.5214 - accuracy: 0.7626 - precision: 0.2222 - recall: 0.1389 - auc: 0.5923\n"
     ]
    },
    {
     "data": {
      "text/plain": [
       "[0.521397054195404,\n",
       " 0.7626427412033081,\n",
       " 0.2222222238779068,\n",
       " 0.1388888955116272,\n",
       " 0.592349648475647]"
      ]
     },
     "execution_count": 46,
     "metadata": {},
     "output_type": "execute_result"
    }
   ],
   "source": [
    "model.evaluate(validation_generator)"
   ]
  }
 ],
 "metadata": {
  "kernelspec": {
   "display_name": "Python 3",
   "language": "python",
   "name": "python3"
  },
  "language_info": {
   "codemirror_mode": {
    "name": "ipython",
    "version": 3
   },
   "file_extension": ".py",
   "mimetype": "text/x-python",
   "name": "python",
   "nbconvert_exporter": "python",
   "pygments_lexer": "ipython3",
   "version": "3.11.5"
  }
 },
 "nbformat": 4,
 "nbformat_minor": 2
}
